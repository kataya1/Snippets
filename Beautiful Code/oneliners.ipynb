{
 "nbformat": 4,
 "nbformat_minor": 2,
 "metadata": {
  "language_info": {
   "name": "python",
   "codemirror_mode": {
    "name": "ipython",
    "version": 3
   }
  },
  "orig_nbformat": 2,
  "file_extension": ".py",
  "mimetype": "text/x-python",
  "name": "python",
  "npconvert_exporter": "python",
  "pygments_lexer": "ipython3",
  "version": 3
 },
 "cells": [
  {
   "cell_type": "code",
   "execution_count": null,
   "metadata": {},
   "outputs": [],
   "source": [
    "# HackerRank 30 days of code"
   ]
  },
  {
   "cell_type": "code",
   "execution_count": 0,
   "metadata": {},
   "outputs": [],
   "source": [
    "\n",
    "for i in range(int(input())): s=input(); print(*[\"\".join(s[::2]),\"\".join(s[1::2])])"
   ]
  },
  {
   "cell_type": "code",
   "execution_count": 0,
   "metadata": {},
   "outputs": [],
   "source": [
    "\n",
    "    N = int(input())\n",
    "    print(\"Weird\" if N % 2 or (not(N % 2) and 6 <= N <= 20 ) else \"Not Weird\")\n",
    "    print(\"Not \"*(int(input().strip())in{2,4}|set(range(22,101,2)))+'Weird')\n",
    "    print((lambda n:'Weird' if n % 2 or 5 < n < 21 else 'Not Weird')(int(input())))\n",
    "    print(\"Not \"*(lambda x: x % 2 == (5 < x < 21))(input()) + \"Weird\")\n"
   ]
  },
  {
   "cell_type": "code",
   "execution_count": null,
   "metadata": {},
   "outputs": [],
   "source": [
    "n = input()\n",
    "print '\\n'.join('%d x %d = %d'%(n, i, n*i) for i in xrange(1, 11))\n",
    "print( *['%d x %d = %d'%(n, i, n*i) for i in range(1, 11)], sep=\"\\n\" )"
   ]
  }
 ]
}