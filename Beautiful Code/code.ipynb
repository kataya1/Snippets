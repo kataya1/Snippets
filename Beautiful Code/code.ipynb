{
 "nbformat": 4,
 "nbformat_minor": 2,
 "metadata": {
  "language_info": {
   "name": "python",
   "codemirror_mode": {
    "name": "ipython",
    "version": 3
   },
   "version": "3.7.3-final"
  },
  "orig_nbformat": 2,
  "file_extension": ".py",
  "mimetype": "text/x-python",
  "name": "python",
  "npconvert_exporter": "python",
  "pygments_lexer": "ipython3",
  "version": 3,
  "kernelspec": {
   "name": "python37364bit9ba31bfddb694805956a23f890fe82c0",
   "display_name": "Python 3.7.3 64-bit"
  }
 },
 "cells": [
  {
   "cell_type": "code",
   "execution_count": 20,
   "metadata": {},
   "outputs": [
    {
     "name": "stdout",
     "output_type": "stream",
     "text": "foo\n{'f': <function foo at 0x000001AD4A8931E0>, 't': <function too at 0x000001AD4A893A60>, 'b': <function boo at 0x000001AD4A8938C8>}\n"
    }
   ],
   "source": [
    "# function selector \n",
    "def foo():\n",
    "    print(\"foo\")\n",
    "def too():\n",
    "    print('too')\n",
    "def boo():\n",
    "    print('boo')\n",
    "\n",
    "func_selector = {'f':foo,'t':too,'b':boo}\n",
    "key = 'f'\n",
    "func_selector[key]()\n",
    "print(func_selector)\n"
   ]
  },
  {
   "cell_type": "code",
   "execution_count": 7,
   "metadata": {},
   "outputs": [],
   "source": [
    "# same line if-return\n",
    "def foo(c):\n",
    "    return \"%20\" if c == ' ' else c"
   ]
  },
  {
   "cell_type": "code",
   "execution_count": 9,
   "metadata": {},
   "outputs": [
    {
     "name": "stdout",
     "output_type": "stream",
     "text": "['H', 'e', 'l', 'l', 'o', ' ', 'W', 'o', 'r', 'l', 'd', '!', ' ', ' ']\n"
    },
    {
     "data": {
      "text/plain": "'Hello%20World!'"
     },
     "execution_count": 9,
     "metadata": {},
     "output_type": "execute_result"
    }
   ],
   "source": [
    "#applying a function .making a list through list comprehension and then joining\n",
    "s = \"Hello World!  \"\n",
    "l  = list(s)\n",
    "print(l)\n",
    "''.join(foo(c) for c in s.rstrip())"
   ]
  },
  {
   "cell_type": "code",
   "execution_count": 4,
   "metadata": {},
   "outputs": [
    {
     "name": "stdout",
     "output_type": "stream",
     "text": "[1, 2, 3, 3, 4, 5]\n"
    },
    {
     "data": {
      "text/plain": "{1: 'jay', 2: 'cj', 3: 'vlad'}"
     },
     "execution_count": 4,
     "metadata": {},
     "output_type": "execute_result"
    }
   ],
   "source": [
    "# merge two lists by unpacking\n",
    "x = [1, 2, 3]\n",
    "y = [3, 4, 5]\n",
    "z = [*x, *y]\n",
    "\n",
    "# merge two dicts\n",
    "a = {1:'jay',2:'seijo'}\n",
    "b = {3:'vlad',2:'cj'}\n",
    "c = {**a,**b}\n",
    "print(z)\n",
    "c"
   ]
  },
  {
   "cell_type": "code",
   "execution_count": 10,
   "metadata": {},
   "outputs": [
    {
     "name": "stdout",
     "output_type": "stream",
     "text": "H e l l o   W o r l d !\n['H', 'e', 'l', 'l', 'o', ' ', 'W', 'o', 'r', 'l', 'd', '!']\nH e l l o   W o r l d !\n['H', 'e', 'l', 'l', 'o', ' ', 'W', 'o', 'r', 'l', 'd', '!']\n"
    }
   ],
   "source": [
    "# unpacking iterable using * operator\n",
    "a = \"Hello World!\"\n",
    "la = [*a]\n",
    "*b, = a\n",
    "print(*a)\n",
    "print(la)\n",
    "print(*la)\n",
    "print(b)"
   ]
  },
  {
   "cell_type": "code",
   "execution_count": null,
   "metadata": {},
   "outputs": [],
   "source": [
    "#  disregarding the rest with _\n",
    "a, _ = [ 1, 2]\n",
    "# tuble with just one element, would be b = \"z\" if b = (\"z\")\n",
    "b = (\"z\",)"
   ]
  },
  {
   "cell_type": "code",
   "execution_count": 12,
   "metadata": {},
   "outputs": [
    {
     "name": "stdout",
     "output_type": "stream",
     "text": "3\n"
    },
    {
     "data": {
      "text/plain": "6"
     },
     "execution_count": 12,
     "metadata": {},
     "output_type": "execute_result"
    }
   ],
   "source": [
    "# multi argument function\n",
    "def sum(*args):\n",
    "    sum = 0\n",
    "    for i in args:\n",
    "        sum += i\n",
    "    return sum\n",
    "print(sum(1, 2)) \n",
    "sum(1, 2, 3)"
   ]
  },
  {
   "cell_type": "code",
   "execution_count": 4,
   "metadata": {},
   "outputs": [
    {
     "data": {
      "text/plain": "'hell 3.44'"
     },
     "execution_count": 4,
     "metadata": {},
     "output_type": "execute_result"
    }
   ],
   "source": [
    "# static typing?\n",
    "def f(x : str) -> str:\n",
    "    return f\"hell {x}\"\n",
    "f(3.44)"
   ]
  },
  {
   "cell_type": "code",
   "execution_count": 4,
   "metadata": {},
   "outputs": [
    {
     "data": {
      "text/plain": "5.0"
     },
     "execution_count": 4,
     "metadata": {},
     "output_type": "execute_result"
    }
   ],
   "source": [
    "# needn't import Math module for sqrt()\n",
    "x = 25**(1/2)\n",
    "x"
   ]
  },
  {
   "cell_type": "code",
   "execution_count": null,
   "metadata": {},
   "outputs": [],
   "source": [
    "# read input without EOF erros\n",
    "while True:\n",
    "    try:\n",
    "        input()\n",
    "    except EOFError:\n",
    "        break"
   ]
  },
  {
   "cell_type": "code",
   "execution_count": 17,
   "metadata": {},
   "outputs": [
    {
     "data": {
      "text/plain": "823543"
     },
     "execution_count": 17,
     "metadata": {},
     "output_type": "execute_result"
    }
   ],
   "source": [
    "# immediatly invocable function expression\n",
    "(lambda x: x**x)(7)"
   ]
  },
  {
   "cell_type": "code",
   "execution_count": null,
   "metadata": {},
   "outputs": [],
   "source": []
  }
 ]
}